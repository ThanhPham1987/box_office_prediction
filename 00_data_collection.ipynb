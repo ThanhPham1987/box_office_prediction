{
 "cells": [
  {
   "cell_type": "code",
   "execution_count": null,
   "metadata": {},
   "outputs": [],
   "source": [
    "# Import Libraries\n",
    "import requests\n",
    "from pprint import PrettyPrinter\n",
    "pp = PrettyPrinter()\n",
    "import pandas as pd\n",
    "from dotenv import load_dotenv\n",
    "import os\n",
    "load_dotenv()\n",
    "api_key = os.getenv(\"TMDB_API_KEY\")\n",
    "omdb_api_key = os.getenv(\"OMDB_API_KEY\")"
   ]
  },
  {
   "cell_type": "markdown",
   "metadata": {},
   "source": [
    "Step 1 :Get List of all bollywood movies release afer 2010\n"
   ]
  },
  {
   "cell_type": "code",
   "execution_count": null,
   "metadata": {},
   "outputs": [],
   "source": [
    "def get_movie_list()->pd.DataFrame:\n",
    "    url = f\"https://api.themoviedb.org/3/discover/movie?api_key={api_key}&include_adult=false&include_video=false&sort_by=revenue.desc&with_original_language=hi\"\n",
    "    response = requests.get(url).json()\n",
    "    total_pages = response['total_pages']\n",
    "    movies_info = pd.DataFrame()\n",
    "    for page in range(1,total_pages):\n",
    "        page_url  = f\"{url}&page={page}\"\n",
    "        page_response = requests.get(page_url).json()['results']\n",
    "        movies_info =pd.concat([movies_info,pd.DataFrame(page_response)])\n",
    "\n",
    "    movies_info = movies_info[(movies_info['release_date']>='2000-01-01') & (movies_info['release_date']<='2024-04-01')]\n",
    "    columns_to_keep = ['title','genre_ids','id','popularity','release_date']\n",
    "    movies_info = movies_info[columns_to_keep]\n",
    "    return movies_info"
   ]
  },
  {
   "cell_type": "code",
   "execution_count": null,
   "metadata": {},
   "outputs": [],
   "source": [
    "movies_info = get_movie_list()\n",
    "movies_info=movies_info.reset_index()\n",
    "movies_info.shape"
   ]
  },
  {
   "cell_type": "code",
   "execution_count": null,
   "metadata": {},
   "outputs": [],
   "source": [
    "def get_movie_details(movie_id): \n",
    "    url = f\"https://api.themoviedb.org/3/movie/{movie_id}?api_key={api_key}\"\n",
    "    response = requests.get(url).json()\n",
    "    return response"
   ]
  },
  {
   "cell_type": "code",
   "execution_count": null,
   "metadata": {},
   "outputs": [],
   "source": [
    "useful_columns = ['budget','id','imdb_id','popularity','revenue','title']\n",
    "movie_details = pd.DataFrame()\n",
    "for i in range(len(movies_info)):\n",
    "    response = get_movie_details(movies_info['id'][i])\n",
    "    for key,value in list(response.items()):\n",
    "        if key not in useful_columns:\n",
    "            del response[key]\n",
    "    movie_details= pd.concat([movie_details,(pd.DataFrame([response]))])"
   ]
  },
  {
   "cell_type": "code",
   "execution_count": null,
   "metadata": {},
   "outputs": [],
   "source": [
    "movie_details.shape "
   ]
  },
  {
   "cell_type": "code",
   "execution_count": null,
   "metadata": {},
   "outputs": [],
   "source": [
    "movie_details_filtered = movie_details[~((movie_details['revenue']==0) | (movie_details['budget']==0))]\n",
    "movie_details_filtered.shape"
   ]
  },
  {
   "cell_type": "code",
   "execution_count": null,
   "metadata": {},
   "outputs": [],
   "source": [
    "first_level_info = movie_details_filtered.merge(movies_info[['id','release_date']],on='id',how='left')\n",
    "first_level_info.head()"
   ]
  },
  {
   "cell_type": "code",
   "execution_count": null,
   "metadata": {},
   "outputs": [],
   "source": [
    "def get_movie_credits(movie_id):\n",
    "    url = f\"https://api.themoviedb.org/3/movie/{movie_id}/credits?api_key={api_key}\"\n",
    "    response = requests.get(url).json()\n",
    "    return response"
   ]
  },
  {
   "cell_type": "code",
   "execution_count": null,
   "metadata": {},
   "outputs": [],
   "source": []
  },
  {
   "cell_type": "code",
   "execution_count": null,
   "metadata": {},
   "outputs": [],
   "source": [
    "def get_cast_crew_popularity(interest_area:str,movie_id:int)->float:\n",
    "    cast_name =[]\n",
    "    cast_details = get_movie_credits(movie_id)\n",
    "    cast_popularity = 0\n",
    "    for i in range(len(cast_details[interest_area])):\n",
    "        if cast_details[interest_area][i]['name'] in cast_name:\n",
    "            cast_popularity += 0\n",
    "        else:\n",
    "            cast_popularity += cast_details[interest_area][i]['popularity']\n",
    "            cast_name.append(cast_details[interest_area][i]['name'])\n",
    "    return cast_popularity\n",
    "\n",
    "print(get_cast_crew_popularity('cast',61202))\n",
    "get_cast_crew_popularity('crew',61202)"
   ]
  },
  {
   "cell_type": "code",
   "execution_count": null,
   "metadata": {},
   "outputs": [],
   "source": [
    "actors_star_power = {\n",
    "    'Aamir Khan':[15480],\n",
    "    'Salman Khan':[16045],\n",
    "    'Shah Rukh Khan':[17705],\n",
    "    'Akshay Kumar':[14730],\n",
    "    'Ajay Devgn':[13760],\n",
    "    'Hrithik Roshan':[12680],\n",
    "    'Ranbir Kapoor':[5260]\n",
    "}\n",
    "\n",
    "def get_star_power(movie_id):\n",
    "    cast_details = get_movie_credits(movie_id)\n",
    "    cast_names = []\n",
    "    for i in range(len(cast_details['cast'])):\n",
    "        cast_names.append(cast_details['cast'][i]['name'])\n",
    "    count = 0\n",
    "    for name in cast_names:\n",
    "        if name in actors_star_power.keys():\n",
    "            count+=1\n",
    "        else:\n",
    "            count +=0\n",
    "    if count >=1:\n",
    "        star_present = 'Yes'\n",
    "    else:\n",
    "        star_present = 'No'\n",
    "    return star_present"
   ]
  },
  {
   "cell_type": "code",
   "execution_count": null,
   "metadata": {},
   "outputs": [],
   "source": [
    "cast_pop_dict ={'id':[],'cast_popularity':[],'crew_popularity':[],'star_present':[]}\n",
    "for i in range(len(first_level_info)):\n",
    "    cast_popularity = get_cast_crew_popularity('cast',first_level_info['id'][i])\n",
    "    crew_popularity = get_cast_crew_popularity('crew',first_level_info['id'][i])\n",
    "    star_present = get_star_power(first_level_info['id'][i])\n",
    "    cast_pop_dict['id'].append(first_level_info['id'][i])\n",
    "    cast_pop_dict['cast_popularity'].append(cast_popularity)\n",
    "    cast_pop_dict['crew_popularity'].append(crew_popularity)\n",
    "    cast_pop_dict['star_present'].append(star_present)\n",
    "cast_popularity_df = pd.DataFrame(cast_pop_dict)"
   ]
  },
  {
   "cell_type": "code",
   "execution_count": null,
   "metadata": {},
   "outputs": [],
   "source": [
    "second_level_info = first_level_info.merge(cast_popularity_df,on='id',how='left')\n",
    "second_level_info.head()"
   ]
  },
  {
   "cell_type": "code",
   "execution_count": null,
   "metadata": {},
   "outputs": [],
   "source": [
    "second_level_info.to_parquet('basic_features.parquet')"
   ]
  }
 ],
 "metadata": {
  "kernelspec": {
   "display_name": "Python 3",
   "language": "python",
   "name": "python3"
  },
  "language_info": {
   "codemirror_mode": {
    "name": "ipython",
    "version": 3
   },
   "file_extension": ".py",
   "mimetype": "text/x-python",
   "name": "python",
   "nbconvert_exporter": "python",
   "pygments_lexer": "ipython3",
   "version": "3.10.13"
  }
 },
 "nbformat": 4,
 "nbformat_minor": 2
}
