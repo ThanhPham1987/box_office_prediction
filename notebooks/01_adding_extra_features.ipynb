{
 "cells": [
  {
   "cell_type": "markdown",
   "metadata": {},
   "source": [
    "pull data from basic_features.parquet"
   ]
  },
  {
   "cell_type": "code",
   "execution_count": 1,
   "metadata": {},
   "outputs": [],
   "source": [
    "import pandas as pd\n",
    "import helpers"
   ]
  },
  {
   "cell_type": "code",
   "execution_count": 4,
   "metadata": {},
   "outputs": [],
   "source": [
    "basic_movie_info = pd.read_parquet('basic_features.parquet')"
   ]
  },
  {
   "cell_type": "code",
   "execution_count": 5,
   "metadata": {},
   "outputs": [
    {
     "data": {
      "text/html": [
       "<div>\n",
       "<style scoped>\n",
       "    .dataframe tbody tr th:only-of-type {\n",
       "        vertical-align: middle;\n",
       "    }\n",
       "\n",
       "    .dataframe tbody tr th {\n",
       "        vertical-align: top;\n",
       "    }\n",
       "\n",
       "    .dataframe thead th {\n",
       "        text-align: right;\n",
       "    }\n",
       "</style>\n",
       "<table border=\"1\" class=\"dataframe\">\n",
       "  <thead>\n",
       "    <tr style=\"text-align: right;\">\n",
       "      <th></th>\n",
       "      <th>budget</th>\n",
       "      <th>id</th>\n",
       "      <th>imdb_id</th>\n",
       "      <th>popularity</th>\n",
       "      <th>revenue</th>\n",
       "      <th>title</th>\n",
       "      <th>release_date</th>\n",
       "      <th>cast_popularity</th>\n",
       "      <th>crew_popularity</th>\n",
       "      <th>star_present</th>\n",
       "    </tr>\n",
       "  </thead>\n",
       "  <tbody>\n",
       "    <tr>\n",
       "      <th>0</th>\n",
       "      <td>10400000</td>\n",
       "      <td>360814</td>\n",
       "      <td>tt5074352</td>\n",
       "      <td>22.057</td>\n",
       "      <td>311000000</td>\n",
       "      <td>Dangal</td>\n",
       "      <td>2016-12-21</td>\n",
       "      <td>68.289</td>\n",
       "      <td>72.850</td>\n",
       "      <td>Yes</td>\n",
       "    </tr>\n",
       "    <tr>\n",
       "      <th>1</th>\n",
       "      <td>6087315</td>\n",
       "      <td>132316</td>\n",
       "      <td>tt2176013</td>\n",
       "      <td>9.961</td>\n",
       "      <td>256884693</td>\n",
       "      <td>Jab Tak Hai Jaan</td>\n",
       "      <td>2012-11-13</td>\n",
       "      <td>76.745</td>\n",
       "      <td>35.234</td>\n",
       "      <td>Yes</td>\n",
       "    </tr>\n",
       "    <tr>\n",
       "      <th>2</th>\n",
       "      <td>7700000</td>\n",
       "      <td>61202</td>\n",
       "      <td>tt1562872</td>\n",
       "      <td>22.366</td>\n",
       "      <td>160000000</td>\n",
       "      <td>Zindagi Na Milegi Dobara</td>\n",
       "      <td>2011-07-15</td>\n",
       "      <td>77.934</td>\n",
       "      <td>91.112</td>\n",
       "      <td>Yes</td>\n",
       "    </tr>\n",
       "    <tr>\n",
       "      <th>3</th>\n",
       "      <td>13000000</td>\n",
       "      <td>348892</td>\n",
       "      <td>tt3863552</td>\n",
       "      <td>16.974</td>\n",
       "      <td>150000000</td>\n",
       "      <td>Bajrangi Bhaijaan</td>\n",
       "      <td>2015-07-17</td>\n",
       "      <td>72.644</td>\n",
       "      <td>114.852</td>\n",
       "      <td>Yes</td>\n",
       "    </tr>\n",
       "    <tr>\n",
       "      <th>4</th>\n",
       "      <td>286284</td>\n",
       "      <td>441889</td>\n",
       "      <td>tt6108090</td>\n",
       "      <td>12.123</td>\n",
       "      <td>137416709</td>\n",
       "      <td>Secret Superstar</td>\n",
       "      <td>2017-10-19</td>\n",
       "      <td>33.289</td>\n",
       "      <td>35.091</td>\n",
       "      <td>Yes</td>\n",
       "    </tr>\n",
       "  </tbody>\n",
       "</table>\n",
       "</div>"
      ],
      "text/plain": [
       "     budget      id    imdb_id  popularity    revenue  \\\n",
       "0  10400000  360814  tt5074352      22.057  311000000   \n",
       "1   6087315  132316  tt2176013       9.961  256884693   \n",
       "2   7700000   61202  tt1562872      22.366  160000000   \n",
       "3  13000000  348892  tt3863552      16.974  150000000   \n",
       "4    286284  441889  tt6108090      12.123  137416709   \n",
       "\n",
       "                      title release_date  cast_popularity  crew_popularity  \\\n",
       "0                    Dangal   2016-12-21           68.289           72.850   \n",
       "1          Jab Tak Hai Jaan   2012-11-13           76.745           35.234   \n",
       "2  Zindagi Na Milegi Dobara   2011-07-15           77.934           91.112   \n",
       "3         Bajrangi Bhaijaan   2015-07-17           72.644          114.852   \n",
       "4          Secret Superstar   2017-10-19           33.289           35.091   \n",
       "\n",
       "  star_present  \n",
       "0          Yes  \n",
       "1          Yes  \n",
       "2          Yes  \n",
       "3          Yes  \n",
       "4          Yes  "
      ]
     },
     "execution_count": 5,
     "metadata": {},
     "output_type": "execute_result"
    }
   ],
   "source": [
    "basic_movie_info.head()"
   ]
  },
  {
   "cell_type": "code",
   "execution_count": 4,
   "metadata": {},
   "outputs": [
    {
     "data": {
      "text/html": [
       "<div>\n",
       "<style scoped>\n",
       "    .dataframe tbody tr th:only-of-type {\n",
       "        vertical-align: middle;\n",
       "    }\n",
       "\n",
       "    .dataframe tbody tr th {\n",
       "        vertical-align: top;\n",
       "    }\n",
       "\n",
       "    .dataframe thead th {\n",
       "        text-align: right;\n",
       "    }\n",
       "</style>\n",
       "<table border=\"1\" class=\"dataframe\">\n",
       "  <thead>\n",
       "    <tr style=\"text-align: right;\">\n",
       "      <th></th>\n",
       "      <th>budget</th>\n",
       "      <th>id</th>\n",
       "      <th>imdb_id</th>\n",
       "      <th>popularity</th>\n",
       "      <th>release_date</th>\n",
       "      <th>revenue</th>\n",
       "      <th>title</th>\n",
       "      <th>cast_popularity</th>\n",
       "      <th>crew_popularity</th>\n",
       "      <th>star_present</th>\n",
       "    </tr>\n",
       "  </thead>\n",
       "  <tbody>\n",
       "    <tr>\n",
       "      <th>0</th>\n",
       "      <td>10400000</td>\n",
       "      <td>360814</td>\n",
       "      <td>tt5074352</td>\n",
       "      <td>26.566</td>\n",
       "      <td>2016-12-21</td>\n",
       "      <td>311000000</td>\n",
       "      <td>Dangal</td>\n",
       "      <td>96.753</td>\n",
       "      <td>79.887</td>\n",
       "      <td>yes</td>\n",
       "    </tr>\n",
       "  </tbody>\n",
       "</table>\n",
       "</div>"
      ],
      "text/plain": [
       "     budget      id    imdb_id  popularity release_date    revenue   title  \\\n",
       "0  10400000  360814  tt5074352      26.566   2016-12-21  311000000  Dangal   \n",
       "\n",
       "   cast_popularity  crew_popularity star_present  \n",
       "0           96.753           79.887          yes  "
      ]
     },
     "execution_count": 4,
     "metadata": {},
     "output_type": "execute_result"
    }
   ],
   "source": [
    "pd.DataFrame([helpers.get_features_movie(360814)]\n",
    "             )"
   ]
  }
 ],
 "metadata": {
  "kernelspec": {
   "display_name": "Python 3",
   "language": "python",
   "name": "python3"
  },
  "language_info": {
   "codemirror_mode": {
    "name": "ipython",
    "version": 3
   },
   "file_extension": ".py",
   "mimetype": "text/x-python",
   "name": "python",
   "nbconvert_exporter": "python",
   "pygments_lexer": "ipython3",
   "version": "3.10.13"
  }
 },
 "nbformat": 4,
 "nbformat_minor": 2
}
