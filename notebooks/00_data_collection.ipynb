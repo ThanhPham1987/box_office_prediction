{
 "cells": [
  {
   "cell_type": "code",
   "execution_count": 1,
   "metadata": {},
   "outputs": [],
   "source": [
    "# Import Libraries\n",
    "import requests\n",
    "from pprint import PrettyPrinter\n",
    "pp = PrettyPrinter()\n",
    "import pandas as pd\n",
    "from dotenv import load_dotenv\n",
    "import os\n",
    "import helpers\n",
    "load_dotenv()\n",
    "api_key = os.getenv(\"TMDB_API_KEY\")\n",
    "omdb_api_key = os.getenv(\"OMDB_API_KEY\")"
   ]
  },
  {
   "cell_type": "markdown",
   "metadata": {},
   "source": [
    "Step 1 :Get List of all bollywood movies release afer 2010\n"
   ]
  },
  {
   "cell_type": "code",
   "execution_count": 2,
   "metadata": {},
   "outputs": [],
   "source": [
    "def get_movie_list()->pd.DataFrame:\n",
    "    url = f\"https://api.themoviedb.org/3/discover/movie?api_key={api_key}&include_adult=false&include_video=false&sort_by=revenue.desc&with_original_language=hi\"\n",
    "    response = requests.get(url).json()\n",
    "    total_pages = response['total_pages']\n",
    "    movies_info = pd.DataFrame()\n",
    "    for page in range(1,total_pages):\n",
    "        page_url  = f\"{url}&page={page}\"\n",
    "        page_response = requests.get(page_url).json()['results']\n",
    "        movies_info =pd.concat([movies_info,pd.DataFrame(page_response)])\n",
    "\n",
    "    movies_info = movies_info[(movies_info['release_date']>='2000-01-01') & (movies_info['release_date']<='2024-04-01')]\n",
    "    columns_to_keep = ['title','genre_ids','id','popularity','release_date']\n",
    "    movies_info = movies_info[columns_to_keep]\n",
    "    return movies_info"
   ]
  },
  {
   "cell_type": "code",
   "execution_count": 3,
   "metadata": {},
   "outputs": [
    {
     "data": {
      "text/plain": [
       "(4032, 6)"
      ]
     },
     "execution_count": 3,
     "metadata": {},
     "output_type": "execute_result"
    }
   ],
   "source": [
    "movies_info = get_movie_list()\n",
    "movies_info=movies_info.reset_index()\n",
    "movies_info.shape"
   ]
  },
  {
   "cell_type": "code",
   "execution_count": 4,
   "metadata": {},
   "outputs": [
    {
     "data": {
      "text/html": [
       "<div>\n",
       "<style scoped>\n",
       "    .dataframe tbody tr th:only-of-type {\n",
       "        vertical-align: middle;\n",
       "    }\n",
       "\n",
       "    .dataframe tbody tr th {\n",
       "        vertical-align: top;\n",
       "    }\n",
       "\n",
       "    .dataframe thead th {\n",
       "        text-align: right;\n",
       "    }\n",
       "</style>\n",
       "<table border=\"1\" class=\"dataframe\">\n",
       "  <thead>\n",
       "    <tr style=\"text-align: right;\">\n",
       "      <th></th>\n",
       "      <th>index</th>\n",
       "      <th>title</th>\n",
       "      <th>genre_ids</th>\n",
       "      <th>id</th>\n",
       "      <th>popularity</th>\n",
       "      <th>release_date</th>\n",
       "    </tr>\n",
       "  </thead>\n",
       "  <tbody>\n",
       "    <tr>\n",
       "      <th>0</th>\n",
       "      <td>0</td>\n",
       "      <td>Dangal</td>\n",
       "      <td>[18, 10751, 35, 28]</td>\n",
       "      <td>360814</td>\n",
       "      <td>26.566</td>\n",
       "      <td>2016-12-21</td>\n",
       "    </tr>\n",
       "    <tr>\n",
       "      <th>1</th>\n",
       "      <td>1</td>\n",
       "      <td>Jab Tak Hai Jaan</td>\n",
       "      <td>[18, 10749]</td>\n",
       "      <td>132316</td>\n",
       "      <td>10.747</td>\n",
       "      <td>2012-11-13</td>\n",
       "    </tr>\n",
       "    <tr>\n",
       "      <th>2</th>\n",
       "      <td>2</td>\n",
       "      <td>Zindagi Na Milegi Dobara</td>\n",
       "      <td>[18, 35, 10749]</td>\n",
       "      <td>61202</td>\n",
       "      <td>18.269</td>\n",
       "      <td>2011-07-15</td>\n",
       "    </tr>\n",
       "    <tr>\n",
       "      <th>3</th>\n",
       "      <td>3</td>\n",
       "      <td>Bajrangi Bhaijaan</td>\n",
       "      <td>[35, 18, 28]</td>\n",
       "      <td>348892</td>\n",
       "      <td>17.963</td>\n",
       "      <td>2015-07-17</td>\n",
       "    </tr>\n",
       "    <tr>\n",
       "      <th>4</th>\n",
       "      <td>4</td>\n",
       "      <td>Secret Superstar</td>\n",
       "      <td>[18, 10402]</td>\n",
       "      <td>441889</td>\n",
       "      <td>9.825</td>\n",
       "      <td>2017-10-19</td>\n",
       "    </tr>\n",
       "  </tbody>\n",
       "</table>\n",
       "</div>"
      ],
      "text/plain": [
       "   index                     title            genre_ids      id  popularity  \\\n",
       "0      0                    Dangal  [18, 10751, 35, 28]  360814      26.566   \n",
       "1      1          Jab Tak Hai Jaan          [18, 10749]  132316      10.747   \n",
       "2      2  Zindagi Na Milegi Dobara      [18, 35, 10749]   61202      18.269   \n",
       "3      3         Bajrangi Bhaijaan         [35, 18, 28]  348892      17.963   \n",
       "4      4          Secret Superstar          [18, 10402]  441889       9.825   \n",
       "\n",
       "  release_date  \n",
       "0   2016-12-21  \n",
       "1   2012-11-13  \n",
       "2   2011-07-15  \n",
       "3   2015-07-17  \n",
       "4   2017-10-19  "
      ]
     },
     "execution_count": 4,
     "metadata": {},
     "output_type": "execute_result"
    }
   ],
   "source": [
    "movies_info.head()"
   ]
  },
  {
   "cell_type": "code",
   "execution_count": 14,
   "metadata": {},
   "outputs": [],
   "source": [
    "movie_details = pd.DataFrame()\n",
    "for i in range(len(movies_info)):\n",
    "    movie_details= pd.concat([movie_details,\n",
    "                              pd.DataFrame([helpers.get_features_movie(movies_info['id'][i])]\n",
    "                                           )])"
   ]
  },
  {
   "cell_type": "code",
   "execution_count": 15,
   "metadata": {},
   "outputs": [],
   "source": [
    "movie_details.to_parquet('movie_details.parquet')"
   ]
  },
  {
   "cell_type": "code",
   "execution_count": 2,
   "metadata": {},
   "outputs": [],
   "source": [
    "movie_details = pd.read_parquet('movie_details.parquet')"
   ]
  },
  {
   "cell_type": "code",
   "execution_count": 3,
   "metadata": {},
   "outputs": [
    {
     "data": {
      "text/plain": [
       "(322, 10)"
      ]
     },
     "execution_count": 3,
     "metadata": {},
     "output_type": "execute_result"
    }
   ],
   "source": [
    "movie_details_filtered = movie_details[~((movie_details['revenue']==0) | (movie_details['budget']==0))]\n",
    "movie_details_filtered.shape"
   ]
  },
  {
   "cell_type": "code",
   "execution_count": 4,
   "metadata": {},
   "outputs": [
    {
     "name": "stdout",
     "output_type": "stream",
     "text": [
      "Connected. Call `.close()` to terminate connection gracefully.\n",
      "\n",
      "Logged in to project, explore it here https://c.app.hopsworks.ai:443/p/602262\n",
      "Connected. Call `.close()` to terminate connection gracefully.\n"
     ]
    }
   ],
   "source": [
    "import hopsworks\n",
    "api_key = os.getenv(\"HOPSWORKS_KEY\")\n",
    "\n",
    "project = hopsworks.login(api_key_value=api_key)\n",
    "\n",
    "fs = project.get_feature_store()"
   ]
  },
  {
   "cell_type": "code",
   "execution_count": 6,
   "metadata": {},
   "outputs": [
    {
     "name": "stdout",
     "output_type": "stream",
     "text": [
      "Feature Group created successfully, explore it at \n",
      "https://c.app.hopsworks.ai:443/p/602262/fs/598085/fg/683393\n"
     ]
    },
    {
     "data": {
      "application/vnd.jupyter.widget-view+json": {
       "model_id": "d8918a84490f4725b492c97bde834cea",
       "version_major": 2,
       "version_minor": 0
      },
      "text/plain": [
       "Uploading Dataframe: 0.00% |          | Rows 0/322 | Elapsed Time: 00:00 | Remaining Time: ?"
      ]
     },
     "metadata": {},
     "output_type": "display_data"
    },
    {
     "name": "stdout",
     "output_type": "stream",
     "text": [
      "Launching job: raw_movies_info_3_offline_fg_materialization\n",
      "Job started successfully, you can follow the progress at \n",
      "https://c.app.hopsworks.ai/p/602262/jobs/named/raw_movies_info_3_offline_fg_materialization/executions\n"
     ]
    }
   ],
   "source": [
    "# Get or create the 'transactions_fraud_batch_fg' feature group\n",
    "movies_fg = fs.get_or_create_feature_group(\n",
    "    name=\"raw_movies_info\",\n",
    "    version=3,\n",
    "    description=\"Information about bollywood movies released after 2001\",\n",
    "    primary_key=[\"id\"]\n",
    ")\n",
    "\n",
    "# Insert data into feature group\n",
    "movies_fg.insert(movie_details_filtered)\n",
    "\n",
    "# Update feature descriptions\n",
    "feature_descriptions = [\n",
    "    {\"name\": \"budget\", \"description\": \"Budget of movie\"},\n",
    "    {\"name\": \"id\", \"description\": \"TMDB ID \"},\n",
    "    {\"name\": \"imdb_id\", \"description\": \"IMDB ID\"},\n",
    "    {\"name\": \"popularity\", \"description\": \"popularity of movie\"},\n",
    "    {\"name\": \"release_date\", \"description\": \"release date of movie\"},\n",
    "    {\"name\": \"revenue\", \"description\": \"total box office collection\"},\n",
    "    {\"name\": \"title\", \"description\": \"Movie Name\"},\n",
    "    {\"name\": \"cast_popularity\", \"description\": \"Sum of popularity of all actors\"},\n",
    "    {\"name\": \"crew_popularity\", \"description\": \"sum of popularity of all crew members\"},\n",
    "    {\"name\": \"star_present\", \"description\": \"whether movie has a bollywood star or not\"}\n",
    "]\n",
    "\n",
    "for desc in feature_descriptions: \n",
    "    movies_fg.update_feature_description(desc[\"name\"], desc[\"description\"])"
   ]
  }
 ],
 "metadata": {
  "kernelspec": {
   "display_name": "Python 3",
   "language": "python",
   "name": "python3"
  },
  "language_info": {
   "codemirror_mode": {
    "name": "ipython",
    "version": 3
   },
   "file_extension": ".py",
   "mimetype": "text/x-python",
   "name": "python",
   "nbconvert_exporter": "python",
   "pygments_lexer": "ipython3",
   "version": "3.10.13"
  }
 },
 "nbformat": 4,
 "nbformat_minor": 2
}
