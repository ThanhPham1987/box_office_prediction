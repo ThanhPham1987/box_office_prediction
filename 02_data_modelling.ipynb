{
 "cells": [
  {
   "cell_type": "code",
   "execution_count": 7,
   "metadata": {},
   "outputs": [],
   "source": [
    "import pandas as pd\n",
    "import sklearn\n",
    "from sklearn.linear_model import LinearRegression\n",
    "from sklearn.neighbors import KNeighborsRegressor, RadiusNeighborsRegressor\n",
    "\n",
    "from sklearn.model_selection import train_test_split\n",
    "\n",
    "from sklearn.metrics import mean_squared_error, mean_absolute_error, r2_score\n",
    "import matplotlib.pyplot as plt\n",
    "\n",
    "import numpy as np"
   ]
  },
  {
   "cell_type": "code",
   "execution_count": 2,
   "metadata": {},
   "outputs": [],
   "source": [
    "basic_movie_info = pd.read_parquet('basic_features.parquet')"
   ]
  },
  {
   "cell_type": "code",
   "execution_count": 3,
   "metadata": {},
   "outputs": [
    {
     "data": {
      "text/plain": [
       "Index(['budget', 'id', 'imdb_id', 'popularity', 'revenue', 'title',\n",
       "       'release_date', 'cast_popularity', 'crew_popularity', 'star_present'],\n",
       "      dtype='object')"
      ]
     },
     "execution_count": 3,
     "metadata": {},
     "output_type": "execute_result"
    }
   ],
   "source": [
    "basic_movie_info.columns"
   ]
  },
  {
   "cell_type": "markdown",
   "metadata": {},
   "source": [
    "Training a basic model"
   ]
  },
  {
   "cell_type": "code",
   "execution_count": 15,
   "metadata": {},
   "outputs": [
    {
     "data": {
      "text/html": [
       "<div>\n",
       "<style scoped>\n",
       "    .dataframe tbody tr th:only-of-type {\n",
       "        vertical-align: middle;\n",
       "    }\n",
       "\n",
       "    .dataframe tbody tr th {\n",
       "        vertical-align: top;\n",
       "    }\n",
       "\n",
       "    .dataframe thead th {\n",
       "        text-align: right;\n",
       "    }\n",
       "</style>\n",
       "<table border=\"1\" class=\"dataframe\">\n",
       "  <thead>\n",
       "    <tr style=\"text-align: right;\">\n",
       "      <th></th>\n",
       "      <th>budget</th>\n",
       "      <th>id</th>\n",
       "      <th>imdb_id</th>\n",
       "      <th>popularity</th>\n",
       "      <th>revenue</th>\n",
       "      <th>title</th>\n",
       "      <th>release_date</th>\n",
       "      <th>cast_popularity</th>\n",
       "      <th>crew_popularity</th>\n",
       "      <th>star_present_No</th>\n",
       "      <th>star_present_Yes</th>\n",
       "    </tr>\n",
       "  </thead>\n",
       "  <tbody>\n",
       "    <tr>\n",
       "      <th>0</th>\n",
       "      <td>10400000</td>\n",
       "      <td>360814</td>\n",
       "      <td>tt5074352</td>\n",
       "      <td>22.057</td>\n",
       "      <td>311000000</td>\n",
       "      <td>Dangal</td>\n",
       "      <td>2016-12-21</td>\n",
       "      <td>68.289</td>\n",
       "      <td>72.850</td>\n",
       "      <td>False</td>\n",
       "      <td>True</td>\n",
       "    </tr>\n",
       "    <tr>\n",
       "      <th>1</th>\n",
       "      <td>6087315</td>\n",
       "      <td>132316</td>\n",
       "      <td>tt2176013</td>\n",
       "      <td>9.961</td>\n",
       "      <td>256884693</td>\n",
       "      <td>Jab Tak Hai Jaan</td>\n",
       "      <td>2012-11-13</td>\n",
       "      <td>76.745</td>\n",
       "      <td>35.234</td>\n",
       "      <td>False</td>\n",
       "      <td>True</td>\n",
       "    </tr>\n",
       "    <tr>\n",
       "      <th>2</th>\n",
       "      <td>7700000</td>\n",
       "      <td>61202</td>\n",
       "      <td>tt1562872</td>\n",
       "      <td>22.366</td>\n",
       "      <td>160000000</td>\n",
       "      <td>Zindagi Na Milegi Dobara</td>\n",
       "      <td>2011-07-15</td>\n",
       "      <td>77.934</td>\n",
       "      <td>91.112</td>\n",
       "      <td>False</td>\n",
       "      <td>True</td>\n",
       "    </tr>\n",
       "    <tr>\n",
       "      <th>3</th>\n",
       "      <td>13000000</td>\n",
       "      <td>348892</td>\n",
       "      <td>tt3863552</td>\n",
       "      <td>16.974</td>\n",
       "      <td>150000000</td>\n",
       "      <td>Bajrangi Bhaijaan</td>\n",
       "      <td>2015-07-17</td>\n",
       "      <td>72.644</td>\n",
       "      <td>114.852</td>\n",
       "      <td>False</td>\n",
       "      <td>True</td>\n",
       "    </tr>\n",
       "    <tr>\n",
       "      <th>4</th>\n",
       "      <td>286284</td>\n",
       "      <td>441889</td>\n",
       "      <td>tt6108090</td>\n",
       "      <td>12.123</td>\n",
       "      <td>137416709</td>\n",
       "      <td>Secret Superstar</td>\n",
       "      <td>2017-10-19</td>\n",
       "      <td>33.289</td>\n",
       "      <td>35.091</td>\n",
       "      <td>False</td>\n",
       "      <td>True</td>\n",
       "    </tr>\n",
       "  </tbody>\n",
       "</table>\n",
       "</div>"
      ],
      "text/plain": [
       "     budget      id    imdb_id  popularity    revenue  \\\n",
       "0  10400000  360814  tt5074352      22.057  311000000   \n",
       "1   6087315  132316  tt2176013       9.961  256884693   \n",
       "2   7700000   61202  tt1562872      22.366  160000000   \n",
       "3  13000000  348892  tt3863552      16.974  150000000   \n",
       "4    286284  441889  tt6108090      12.123  137416709   \n",
       "\n",
       "                      title release_date  cast_popularity  crew_popularity  \\\n",
       "0                    Dangal   2016-12-21           68.289           72.850   \n",
       "1          Jab Tak Hai Jaan   2012-11-13           76.745           35.234   \n",
       "2  Zindagi Na Milegi Dobara   2011-07-15           77.934           91.112   \n",
       "3         Bajrangi Bhaijaan   2015-07-17           72.644          114.852   \n",
       "4          Secret Superstar   2017-10-19           33.289           35.091   \n",
       "\n",
       "   star_present_No  star_present_Yes  \n",
       "0            False              True  \n",
       "1            False              True  \n",
       "2            False              True  \n",
       "3            False              True  \n",
       "4            False              True  "
      ]
     },
     "execution_count": 15,
     "metadata": {},
     "output_type": "execute_result"
    }
   ],
   "source": [
    "encoded_df = pd.get_dummies(basic_movie_info, columns=['star_present'])\n",
    "encoded_df.head()"
   ]
  },
  {
   "cell_type": "code",
   "execution_count": 16,
   "metadata": {},
   "outputs": [
    {
     "name": "stdout",
     "output_type": "stream",
     "text": [
      "<class 'pandas.core.frame.DataFrame'>\n",
      "RangeIndex: 322 entries, 0 to 321\n",
      "Data columns (total 11 columns):\n",
      " #   Column            Non-Null Count  Dtype  \n",
      "---  ------            --------------  -----  \n",
      " 0   budget            322 non-null    int64  \n",
      " 1   id                322 non-null    int64  \n",
      " 2   imdb_id           318 non-null    object \n",
      " 3   popularity        322 non-null    float64\n",
      " 4   revenue           322 non-null    int64  \n",
      " 5   title             322 non-null    object \n",
      " 6   release_date      322 non-null    object \n",
      " 7   cast_popularity   322 non-null    float64\n",
      " 8   crew_popularity   322 non-null    float64\n",
      " 9   star_present_No   322 non-null    bool   \n",
      " 10  star_present_Yes  322 non-null    bool   \n",
      "dtypes: bool(2), float64(3), int64(3), object(3)\n",
      "memory usage: 23.4+ KB\n"
     ]
    }
   ],
   "source": [
    "encoded_df.info()"
   ]
  },
  {
   "cell_type": "code",
   "execution_count": 17,
   "metadata": {},
   "outputs": [],
   "source": [
    "features = ['budget', 'popularity','cast_popularity', 'crew_popularity', 'star_present_No','star_present_Yes']\n",
    "label = ['revenue']"
   ]
  },
  {
   "cell_type": "code",
   "execution_count": 22,
   "metadata": {},
   "outputs": [
    {
     "name": "stderr",
     "output_type": "stream",
     "text": [
      "/tmp/ipykernel_36743/4094311529.py:4: SettingWithCopyWarning: \n",
      "A value is trying to be set on a copy of a slice from a DataFrame.\n",
      "Try using .loc[row_indexer,col_indexer] = value instead\n",
      "\n",
      "See the caveats in the documentation: https://pandas.pydata.org/pandas-docs/stable/user_guide/indexing.html#returning-a-view-versus-a-copy\n",
      "  X['budget'] = X['budget']/scaling_factor\n"
     ]
    }
   ],
   "source": [
    "movies_df = encoded_df.dropna()\n",
    "scaling_factor = 1000000\n",
    "X = movies_df[features]\n",
    "X['budget'] = X['budget']/scaling_factor\n",
    "\n",
    "y = movies_df[label]/scaling_factor"
   ]
  },
  {
   "cell_type": "code",
   "execution_count": 25,
   "metadata": {},
   "outputs": [
    {
     "name": "stdout",
     "output_type": "stream",
     "text": [
      "Training set scores: mse 516.009104, mae 12.141977, r2 0.312972\n",
      "Test set scores: mse 2059.534965, mae 17.285969, r2 0.106022\n"
     ]
    }
   ],
   "source": [
    "model = KNeighborsRegressor(n_neighbors= 10)\n",
    "# model = RadiusNeighborsRegressor(radius= 10)\n",
    "\n",
    "X_train, X_test, y_train, y_test = train_test_split(X, y, test_size=0.2)\n",
    "reg = model.fit(X_train, y_train)\n",
    "\n",
    "# Evaluate on training set\n",
    "y_pred = reg.predict(X_train)\n",
    "mse = mean_squared_error(y_train, y_pred)\n",
    "mae = mean_absolute_error(y_train, y_pred)\n",
    "r2 = r2_score(y_train, y_pred)\n",
    "print(\"Training set scores: mse %f, mae %f, r2 %f\" % (mse, mae, r2))\n",
    "\n",
    "# Evaluate on test set\n",
    "y_pred = reg.predict(X_test)\n",
    "mse = mean_squared_error(y_test, y_pred)\n",
    "mae = mean_absolute_error(y_test, y_pred)\n",
    "r2 = r2_score(y_test, y_pred)\n",
    "print(\"Test set scores: mse %f, mae %f, r2 %f\" % (mse, mae, r2))"
   ]
  },
  {
   "cell_type": "code",
   "execution_count": 26,
   "metadata": {},
   "outputs": [
    {
     "data": {
      "image/png": "[encoded data removed]",
      "text/plain": [
       "<Figure size 1000x300 with 2 Axes>"
      ]
     },
     "metadata": {},
     "output_type": "display_data"
    }
   ],
   "source": [
    "f, ax = plt.subplots(1, 2,figsize=(10, 3))\n",
    "ax[0].scatter(X_train[['budget']], y_train, color='green')\n",
    "ax[0].scatter(X_train[['budget']], reg.predict(X_train), color='purple')\n",
    "ax[0].set_title('Training set')\n",
    "ax[0].set_xlabel('budget')\n",
    "ax[0].set_ylabel('revenue')\n",
    "ax[0].legend(['True revenue', 'Predicted revenue'])\n",
    "ax[0].grid()\n",
    "ax[1].scatter(X_test[['budget']], y_test, color='green')\n",
    "ax[1].scatter(X_test[['budget']], reg.predict(X_test), color='purple')\n",
    "ax[1].set_title('Test set')\n",
    "ax[1].set_xlabel('budget')\n",
    "ax[1].set_ylabel('revenue')\n",
    "ax[1].legend(['True revenue', 'Predicted revenue'])\n",
    "ax[1].grid()\n",
    "\n",
    "plt.show()\n"
   ]
  }
 ],
 "metadata": {
  "kernelspec": {
   "display_name": "Python 3",
   "language": "python",
   "name": "python3"
  },
  "language_info": {
   "codemirror_mode": {
    "name": "ipython",
    "version": 3
   },
   "file_extension": ".py",
   "mimetype": "text/x-python",
   "name": "python",
   "nbconvert_exporter": "python",
   "pygments_lexer": "ipython3",
   "version": "3.10.13"
  }
 },
 "nbformat": 4,
 "nbformat_minor": 2
}
