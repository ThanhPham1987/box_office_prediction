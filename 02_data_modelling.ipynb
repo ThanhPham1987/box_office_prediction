{
 "cells": [
  {
   "cell_type": "code",
   "execution_count": 1,
   "metadata": {},
   "outputs": [],
   "source": [
    "import pandas as pd\n",
    "import sklearn\n",
    "from sklearn.linear_model import LinearRegression\n",
    "from sklearn.neighbors import KNeighborsRegressor, RadiusNeighborsRegressor\n",
    "\n",
    "from sklearn.model_selection import train_test_split\n",
    "\n",
    "from sklearn.metrics import mean_squared_error, mean_absolute_error, r2_score\n",
    "import matplotlib.pyplot as plt\n",
    "\n",
    "import numpy as np"
   ]
  },
  {
   "cell_type": "code",
   "execution_count": 2,
   "metadata": {},
   "outputs": [],
   "source": [
    "basic_movie_info = pd.read_parquet('basic_features.parquet')"
   ]
  },
  {
   "cell_type": "code",
   "execution_count": 3,
   "metadata": {},
   "outputs": [
    {
     "data": {
      "text/plain": [
       "Index(['budget', 'id', 'imdb_id', 'popularity', 'revenue', 'title',\n",
       "       'release_date', 'cast_popularity', 'crew_popularity', 'star_present'],\n",
       "      dtype='object')"
      ]
     },
     "execution_count": 3,
     "metadata": {},
     "output_type": "execute_result"
    }
   ],
   "source": [
    "basic_movie_info.columns"
   ]
  },
  {
   "cell_type": "code",
   "execution_count": 4,
   "metadata": {},
   "outputs": [
    {
     "data": {
      "text/html": [
       "<div>\n",
       "<style scoped>\n",
       "    .dataframe tbody tr th:only-of-type {\n",
       "        vertical-align: middle;\n",
       "    }\n",
       "\n",
       "    .dataframe tbody tr th {\n",
       "        vertical-align: top;\n",
       "    }\n",
       "\n",
       "    .dataframe thead th {\n",
       "        text-align: right;\n",
       "    }\n",
       "</style>\n",
       "<table border=\"1\" class=\"dataframe\">\n",
       "  <thead>\n",
       "    <tr style=\"text-align: right;\">\n",
       "      <th></th>\n",
       "      <th>budget</th>\n",
       "      <th>id</th>\n",
       "      <th>imdb_id</th>\n",
       "      <th>popularity</th>\n",
       "      <th>revenue</th>\n",
       "      <th>title</th>\n",
       "      <th>release_date</th>\n",
       "      <th>cast_popularity</th>\n",
       "      <th>crew_popularity</th>\n",
       "      <th>star_present_No</th>\n",
       "      <th>star_present_Yes</th>\n",
       "    </tr>\n",
       "  </thead>\n",
       "  <tbody>\n",
       "    <tr>\n",
       "      <th>0</th>\n",
       "      <td>10400000</td>\n",
       "      <td>360814</td>\n",
       "      <td>tt5074352</td>\n",
       "      <td>22.057</td>\n",
       "      <td>311000000</td>\n",
       "      <td>Dangal</td>\n",
       "      <td>2016-12-21</td>\n",
       "      <td>68.289</td>\n",
       "      <td>72.850</td>\n",
       "      <td>False</td>\n",
       "      <td>True</td>\n",
       "    </tr>\n",
       "    <tr>\n",
       "      <th>1</th>\n",
       "      <td>6087315</td>\n",
       "      <td>132316</td>\n",
       "      <td>tt2176013</td>\n",
       "      <td>9.961</td>\n",
       "      <td>256884693</td>\n",
       "      <td>Jab Tak Hai Jaan</td>\n",
       "      <td>2012-11-13</td>\n",
       "      <td>76.745</td>\n",
       "      <td>35.234</td>\n",
       "      <td>False</td>\n",
       "      <td>True</td>\n",
       "    </tr>\n",
       "    <tr>\n",
       "      <th>2</th>\n",
       "      <td>7700000</td>\n",
       "      <td>61202</td>\n",
       "      <td>tt1562872</td>\n",
       "      <td>22.366</td>\n",
       "      <td>160000000</td>\n",
       "      <td>Zindagi Na Milegi Dobara</td>\n",
       "      <td>2011-07-15</td>\n",
       "      <td>77.934</td>\n",
       "      <td>91.112</td>\n",
       "      <td>False</td>\n",
       "      <td>True</td>\n",
       "    </tr>\n",
       "    <tr>\n",
       "      <th>3</th>\n",
       "      <td>13000000</td>\n",
       "      <td>348892</td>\n",
       "      <td>tt3863552</td>\n",
       "      <td>16.974</td>\n",
       "      <td>150000000</td>\n",
       "      <td>Bajrangi Bhaijaan</td>\n",
       "      <td>2015-07-17</td>\n",
       "      <td>72.644</td>\n",
       "      <td>114.852</td>\n",
       "      <td>False</td>\n",
       "      <td>True</td>\n",
       "    </tr>\n",
       "    <tr>\n",
       "      <th>4</th>\n",
       "      <td>286284</td>\n",
       "      <td>441889</td>\n",
       "      <td>tt6108090</td>\n",
       "      <td>12.123</td>\n",
       "      <td>137416709</td>\n",
       "      <td>Secret Superstar</td>\n",
       "      <td>2017-10-19</td>\n",
       "      <td>33.289</td>\n",
       "      <td>35.091</td>\n",
       "      <td>False</td>\n",
       "      <td>True</td>\n",
       "    </tr>\n",
       "  </tbody>\n",
       "</table>\n",
       "</div>"
      ],
      "text/plain": [
       "     budget      id    imdb_id  popularity    revenue  \\\n",
       "0  10400000  360814  tt5074352      22.057  311000000   \n",
       "1   6087315  132316  tt2176013       9.961  256884693   \n",
       "2   7700000   61202  tt1562872      22.366  160000000   \n",
       "3  13000000  348892  tt3863552      16.974  150000000   \n",
       "4    286284  441889  tt6108090      12.123  137416709   \n",
       "\n",
       "                      title release_date  cast_popularity  crew_popularity  \\\n",
       "0                    Dangal   2016-12-21           68.289           72.850   \n",
       "1          Jab Tak Hai Jaan   2012-11-13           76.745           35.234   \n",
       "2  Zindagi Na Milegi Dobara   2011-07-15           77.934           91.112   \n",
       "3         Bajrangi Bhaijaan   2015-07-17           72.644          114.852   \n",
       "4          Secret Superstar   2017-10-19           33.289           35.091   \n",
       "\n",
       "   star_present_No  star_present_Yes  \n",
       "0            False              True  \n",
       "1            False              True  \n",
       "2            False              True  \n",
       "3            False              True  \n",
       "4            False              True  "
      ]
     },
     "execution_count": 4,
     "metadata": {},
     "output_type": "execute_result"
    }
   ],
   "source": [
    "basic_movie_info = pd.get_dummies(basic_movie_info, columns=['star_present'])\n",
    "basic_movie_info.head()"
   ]
  },
  {
   "cell_type": "code",
   "execution_count": 3,
   "metadata": {},
   "outputs": [
    {
     "name": "stdout",
     "output_type": "stream",
     "text": [
      "Connection closed.\n",
      "Connected. Call `.close()` to terminate connection gracefully.\n",
      "\n",
      "Logged in to project, explore it here https://c.app.hopsworks.ai:443/p/602262\n",
      "Connected. Call `.close()` to terminate connection gracefully.\n"
     ]
    }
   ],
   "source": [
    "import hopsworks\n",
    "import os\n",
    "from dotenv import load_dotenv\n",
    "load_dotenv()\n",
    "api_key = os.getenv(\"HOPSWORKS_KEY\")\n",
    "\n",
    "project = hopsworks.login(api_key_value=api_key)\n",
    "\n",
    "fs = project.get_feature_store()"
   ]
  },
  {
   "cell_type": "code",
   "execution_count": 6,
   "metadata": {},
   "outputs": [
    {
     "name": "stderr",
     "output_type": "stream",
     "text": [
      "FeatureGroupWarning: The ingested dataframe contains upper case letters in feature names: `['star_present_No', 'star_present_Yes']`. Feature names are sanitized to lower case in the feature store.\n"
     ]
    },
    {
     "data": {
      "application/vnd.jupyter.widget-view+json": {
       "model_id": "a48a87bee2b54fa393af7f87fec015d9",
       "version_major": 2,
       "version_minor": 0
      },
      "text/plain": [
       "Uploading Dataframe: 0.00% |          | Rows 0/322 | Elapsed Time: 00:00 | Remaining Time: ?"
      ]
     },
     "metadata": {},
     "output_type": "display_data"
    },
    {
     "name": "stdout",
     "output_type": "stream",
     "text": [
      "Launching job: movies_2_offline_fg_materialization\n",
      "Job started successfully, you can follow the progress at \n",
      "https://c.app.hopsworks.ai/p/602262/jobs/named/movies_2_offline_fg_materialization/executions\n"
     ]
    },
    {
     "data": {
      "text/plain": [
       "(<hsfs.core.job.Job at 0x7f7546193f40>, None)"
      ]
     },
     "execution_count": 6,
     "metadata": {},
     "output_type": "execute_result"
    }
   ],
   "source": [
    "movies_fg = fs.get_or_create_feature_group(\n",
    "    name=\"movies\",\n",
    "    version=2,\n",
    "    primary_key= basic_movie_info.columns, \n",
    "    description=\"Movies form TMDB\")\n",
    "movies_fg.insert(basic_movie_info)"
   ]
  },
  {
   "cell_type": "code",
   "execution_count": 7,
   "metadata": {},
   "outputs": [],
   "source": [
    "movie_fg = fs.get_feature_group(name=\"movies\", version=2)\n",
    "query = movie_fg.select_all()\n",
    "feature_view = fs.get_or_create_feature_view(name=\"movies\",\n",
    "                                  version=2,\n",
    "                                  description=\"Get movies in the dataset\",\n",
    "                                  labels=[\"revenue\"],\n",
    "                                  query=query)"
   ]
  },
  {
   "cell_type": "code",
   "execution_count": 8,
   "metadata": {},
   "outputs": [
    {
     "name": "stdout",
     "output_type": "stream",
     "text": [
      "Finished: Reading data from Hopsworks, using ArrowFlight (1.41s) \n"
     ]
    },
    {
     "name": "stderr",
     "output_type": "stream",
     "text": [
      "VersionWarning: Incremented version to `2`.\n"
     ]
    }
   ],
   "source": [
    "data = feature_view.train_validation_test_split(validation_size = 0.1, test_size = 0.2)"
   ]
  },
  {
   "cell_type": "code",
   "execution_count": 9,
   "metadata": {},
   "outputs": [],
   "source": [
    "X_train, X_val, X_test, y_train, y_val, y_test = data"
   ]
  },
  {
   "cell_type": "markdown",
   "metadata": {},
   "source": [
    "Training a basic model"
   ]
  },
  {
   "cell_type": "code",
   "execution_count": 10,
   "metadata": {},
   "outputs": [
    {
     "data": {
      "text/plain": [
       "Index(['budget', 'id', 'imdb_id', 'popularity', 'title', 'release_date',\n",
       "       'cast_popularity', 'crew_popularity', 'star_present_no',\n",
       "       'star_present_yes'],\n",
       "      dtype='object')"
      ]
     },
     "execution_count": 10,
     "metadata": {},
     "output_type": "execute_result"
    }
   ],
   "source": [
    "X_train.columns"
   ]
  },
  {
   "cell_type": "code",
   "execution_count": 11,
   "metadata": {},
   "outputs": [
    {
     "name": "stderr",
     "output_type": "stream",
     "text": [
      "SettingWithCopyWarning: \n",
      "A value is trying to be set on a copy of a slice from a DataFrame.\n",
      "Try using .loc[row_indexer,col_indexer] = value instead\n",
      "\n",
      "See the caveats in the documentation: https://pandas.pydata.org/pandas-docs/stable/user_guide/indexing.html#returning-a-view-versus-a-copy\n",
      "SettingWithCopyWarning: \n",
      "A value is trying to be set on a copy of a slice from a DataFrame.\n",
      "Try using .loc[row_indexer,col_indexer] = value instead\n",
      "\n",
      "See the caveats in the documentation: https://pandas.pydata.org/pandas-docs/stable/user_guide/indexing.html#returning-a-view-versus-a-copy\n",
      "SettingWithCopyWarning: \n",
      "A value is trying to be set on a copy of a slice from a DataFrame.\n",
      "Try using .loc[row_indexer,col_indexer] = value instead\n",
      "\n",
      "See the caveats in the documentation: https://pandas.pydata.org/pandas-docs/stable/user_guide/indexing.html#returning-a-view-versus-a-copy\n"
     ]
    },
    {
     "name": "stdout",
     "output_type": "stream",
     "text": [
      "--------------------------------------------------------------------------\n",
      "Training set scores for 1 neighbours:\t mse 0.000000, mae 0.000000, r2 1.000000\n",
      "Validation set scores for 1 neighbours: mse 350.938969, mae 12.017841, r2 -0.363157\n",
      "Test set scores for 1 neighbours:\t mse 3448.237252, mae 26.137397, r2 -2.268880\n",
      "--------------------------------------------------------------------------\n",
      "Training set scores for 2 neighbours:\t mse 368.138230, mae 8.420453, r2 0.685691\n",
      "Validation set scores for 2 neighbours: mse 391.996592, mae 11.889985, r2 -0.522638\n",
      "Test set scores for 2 neighbours:\t mse 1516.449196, mae 20.344482, r2 -0.437572\n",
      "--------------------------------------------------------------------------\n",
      "Training set scores for 3 neighbours:\t mse 529.930730, mae 10.204937, r2 0.547555\n",
      "Validation set scores for 3 neighbours: mse 182.450472, mae 9.960244, r2 0.291305\n",
      "Test set scores for 3 neighbours:\t mse 1123.498020, mae 17.141917, r2 -0.065060\n",
      "--------------------------------------------------------------------------\n",
      "Training set scores for 4 neighbours:\t mse 631.667018, mae 10.893358, r2 0.460695\n",
      "Validation set scores for 4 neighbours: mse 139.944792, mae 8.857520, r2 0.456410\n",
      "Test set scores for 4 neighbours:\t mse 996.847203, mae 16.192863, r2 0.055003\n",
      "--------------------------------------------------------------------------\n",
      "Training set scores for 5 neighbours:\t mse 682.338354, mae 11.177990, r2 0.417433\n",
      "Validation set scores for 5 neighbours: mse 138.359085, mae 8.650331, r2 0.462570\n",
      "Test set scores for 5 neighbours:\t mse 700.078868, mae 14.724028, r2 0.336335\n",
      "--------------------------------------------------------------------------\n",
      "Training set scores for 6 neighbours:\t mse 755.559443, mae 11.874589, r2 0.354918\n",
      "Validation set scores for 6 neighbours: mse 192.247995, mae 10.206539, r2 0.253248\n",
      "Test set scores for 6 neighbours:\t mse 636.995022, mae 13.614818, r2 0.396138\n",
      "--------------------------------------------------------------------------\n",
      "Training set scores for 7 neighbours:\t mse 799.236924, mae 12.069475, r2 0.317627\n",
      "Validation set scores for 7 neighbours: mse 233.162393, mae 11.403433, r2 0.094324\n",
      "Test set scores for 7 neighbours:\t mse 601.224162, mae 13.358245, r2 0.430048\n",
      "--------------------------------------------------------------------------\n",
      "Training set scores for 8 neighbours:\t mse 834.697296, mae 12.368105, r2 0.287351\n",
      "Validation set scores for 8 neighbours: mse 224.905637, mae 11.481952, r2 0.126396\n",
      "Test set scores for 8 neighbours:\t mse 614.854778, mae 13.369424, r2 0.417126\n",
      "--------------------------------------------------------------------------\n",
      "Training set scores for 9 neighbours:\t mse 868.384434, mae 12.643092, r2 0.258590\n",
      "Validation set scores for 9 neighbours: mse 215.829301, mae 10.966067, r2 0.161651\n",
      "Test set scores for 9 neighbours:\t mse 651.146847, mae 13.583816, r2 0.382722\n",
      "--------------------------------------------------------------------------\n",
      "Training set scores for 10 neighbours:\t mse 866.776079, mae 12.407214, r2 0.259963\n",
      "Validation set scores for 10 neighbours: mse 216.872302, mae 10.927315, r2 0.157600\n",
      "Test set scores for 10 neighbours:\t mse 662.556460, mae 13.387906, r2 0.371906\n",
      "--------------------------------------------------------------------------\n",
      "Training set scores for 11 neighbours:\t mse 886.794768, mae 12.442003, r2 0.242872\n",
      "Validation set scores for 11 neighbours: mse 235.157082, mae 11.215904, r2 0.086576\n",
      "Test set scores for 11 neighbours:\t mse 656.421815, mae 13.216986, r2 0.377721\n",
      "--------------------------------------------------------------------------\n",
      "Training set scores for 12 neighbours:\t mse 893.852591, mae 12.509003, r2 0.236846\n",
      "Validation set scores for 12 neighbours: mse 263.366364, mae 12.169164, r2 -0.022998\n",
      "Test set scores for 12 neighbours:\t mse 639.969862, mae 12.909890, r2 0.393318\n",
      "--------------------------------------------------------------------------\n",
      "Training set scores for 13 neighbours:\t mse 907.273727, mae 12.698156, r2 0.225387\n",
      "Validation set scores for 13 neighbours: mse 268.948464, mae 12.281712, r2 -0.044680\n",
      "Test set scores for 13 neighbours:\t mse 573.467209, mae 12.247289, r2 0.456361\n",
      "--------------------------------------------------------------------------\n",
      "Training set scores for 14 neighbours:\t mse 923.213301, mae 13.062578, r2 0.211778\n",
      "Validation set scores for 14 neighbours: mse 265.950997, mae 12.123255, r2 -0.033037\n",
      "Test set scores for 14 neighbours:\t mse 606.926085, mae 12.583764, r2 0.424643\n",
      "--------------------------------------------------------------------------\n",
      "Training set scores for 15 neighbours:\t mse 916.764096, mae 13.131596, r2 0.217284\n",
      "Validation set scores for 15 neighbours: mse 255.267460, mae 11.876561, r2 0.008461\n",
      "Test set scores for 15 neighbours:\t mse 623.009054, mae 12.748109, r2 0.409396\n",
      "--------------------------------------------------------------------------\n",
      "Training set scores for 16 neighbours:\t mse 915.938822, mae 13.165613, r2 0.217989\n",
      "Validation set scores for 16 neighbours: mse 238.994216, mae 11.337107, r2 0.071671\n",
      "Test set scores for 16 neighbours:\t mse 647.276516, mae 12.961408, r2 0.386391\n",
      "--------------------------------------------------------------------------\n",
      "Training set scores for 17 neighbours:\t mse 926.739158, mae 13.357160, r2 0.208768\n",
      "Validation set scores for 17 neighbours: mse 240.474281, mae 11.363415, r2 0.065922\n",
      "Test set scores for 17 neighbours:\t mse 654.307155, mae 12.863357, r2 0.379726\n",
      "--------------------------------------------------------------------------\n",
      "Training set scores for 18 neighbours:\t mse 931.065678, mae 13.395652, r2 0.205074\n",
      "Validation set scores for 18 neighbours: mse 241.603798, mae 11.321189, r2 0.061535\n",
      "Test set scores for 18 neighbours:\t mse 651.530059, mae 12.913393, r2 0.382359\n",
      "--------------------------------------------------------------------------\n",
      "Training set scores for 19 neighbours:\t mse 941.930602, mae 13.456481, r2 0.195798\n",
      "Validation set scores for 19 neighbours: mse 250.224170, mae 11.943157, r2 0.028051\n",
      "Test set scores for 19 neighbours:\t mse 663.508281, mae 13.157768, r2 0.371004\n"
     ]
    }
   ],
   "source": [
    "scaling_factor = 1000000\n",
    "X_train_scaled = X_train[['budget', 'popularity','cast_popularity', 'crew_popularity', 'star_present_no','star_present_yes']]\n",
    "X_test_scaled = X_test[['budget', 'popularity','cast_popularity', 'crew_popularity', 'star_present_no','star_present_yes']]\n",
    "X_val_scaled = X_val[['budget', 'popularity','cast_popularity', 'crew_popularity', 'star_present_no','star_present_yes']]\n",
    "\n",
    "X_train_scaled[['budget']] = X_train[['budget']]/scaling_factor\n",
    "y_train_scaled = y_train[['revenue']]/scaling_factor\n",
    "X_val_scaled[['budget']] = X_val[['budget']]/scaling_factor\n",
    "y_val_scaled = y_val[['revenue']]/scaling_factor\n",
    "X_test_scaled[['budget']] = X_test[['budget']]/scaling_factor\n",
    "y_test_scaled = y_test[['revenue']]/scaling_factor\n",
    "\n",
    "\n",
    "n_min = 1\n",
    "n_max = 20\n",
    "r2s = np.zeros((len(range(n_min,n_max)), 3))\n",
    "mses = np.zeros((len(range(n_min,n_max)), 3))\n",
    "\n",
    "\n",
    "for n_neighbours in range(n_min,n_max):\n",
    "  model = KNeighborsRegressor(n_neighbors=n_neighbours)\n",
    "  reg = model.fit(X_train_scaled, y_train_scaled)\n",
    "\n",
    "  print(\"--------------------------------------------------------------------------\")\n",
    "  # Evaluate on training set\n",
    "  y_pred = reg.predict(X_train_scaled)\n",
    "  mse = mean_squared_error(y_train_scaled, y_pred)\n",
    "  mae = mean_absolute_error(y_train_scaled, y_pred)\n",
    "  r2 = r2_score(y_train_scaled, y_pred)\n",
    "  print(\"Training set scores for %d neighbours:\\t mse %f, mae %f, r2 %f\" % (n_neighbours, mse, mae, r2))\n",
    "  r2s[n_neighbours - n_min, 0] = r2\n",
    "  mses[n_neighbours - n_min, 0] = mse\n",
    "\n",
    "\n",
    "  # Evaluate on test set\n",
    "  y_pred = reg.predict(X_val_scaled)\n",
    "  y_pred = np.nan_to_num(y_pred)\n",
    "  mse = mean_squared_error(y_val_scaled, y_pred)\n",
    "  mae = mean_absolute_error(y_val_scaled, y_pred)\n",
    "  r2 = r2_score(y_val_scaled, y_pred)\n",
    "  print(\"Validation set scores for %d neighbours: mse %f, mae %f, r2 %f\" % (n_neighbours, mse, mae, r2))\n",
    "  r2s[n_neighbours - n_min, 1] = r2\n",
    "  mses[n_neighbours - n_min, 1] = mse\n",
    "\n",
    "  # Evaluate on test set\n",
    "  y_pred = reg.predict(X_test_scaled)\n",
    "  y_pred = np.nan_to_num(y_pred)\n",
    "  mse = mean_squared_error(y_test_scaled, y_pred)\n",
    "  mae = mean_absolute_error(y_test_scaled, y_pred)\n",
    "  r2 = r2_score(y_test_scaled, y_pred)\n",
    "  print(\"Test set scores for %d neighbours:\\t mse %f, mae %f, r2 %f\" % (n_neighbours, mse, mae, r2))\n",
    "  r2s[n_neighbours - n_min,2] = r2\n",
    "  mses[n_neighbours - n_min, 2] = mse"
   ]
  },
  {
   "cell_type": "code",
   "execution_count": 12,
   "metadata": {},
   "outputs": [
    {
     "data": {
      "image/png": "[encoded data removed]",
      "text/plain": [
       "<Figure size 1000x400 with 2 Axes>"
      ]
     },
     "metadata": {},
     "output_type": "display_data"
    }
   ],
   "source": [
    "f, ax = plt.subplots(1,2, figsize = (10,4))\n",
    "ax[0].plot( r2s)\n",
    "ax[0].legend(['train', 'val', 'test'])\n",
    "ax[0].set_xticks(range(n_min, n_max, 2))\n",
    "ax[0].grid()\n",
    "ax[0].set_title(\"R2 scores\")\n",
    "ax[1].plot(mses)\n",
    "ax[1].legend(['train', 'val', 'test'])\n",
    "ax[1].set_xticks(range(n_min, n_max, 2))\n",
    "ax[1].set_title(\"MSE scores\")\n",
    "ax[1].grid()"
   ]
  },
  {
   "cell_type": "code",
   "execution_count": 15,
   "metadata": {},
   "outputs": [
    {
     "name": "stdout",
     "output_type": "stream",
     "text": [
      "Training set scores for 5 neighbours: mse 682.338354, mae 11.177990, r2 0.417433\n",
      "Validation set scores for 5 neighbours: mse 138.359085, mae 8.650331, r2 0.462570\n",
      "Test set scores for 5 neighbours: mse 700.078868, mae 14.724028, r2 0.336335\n"
     ]
    }
   ],
   "source": [
    "n_neighbours = 5\n",
    "model = KNeighborsRegressor(n_neighbors=n_neighbours)\n",
    "reg = model.fit(X_train_scaled, y_train_scaled)\n",
    "\n",
    "# Evaluate on training set\n",
    "y_pred = reg.predict(X_train_scaled)\n",
    "mse = mean_squared_error(y_train_scaled, y_pred)\n",
    "mae = mean_absolute_error(y_train_scaled, y_pred)\n",
    "r2 = r2_score(y_train_scaled, y_pred)\n",
    "print(\"Training set scores for %d neighbours: mse %f, mae %f, r2 %f\" % (n_neighbours, mse, mae, r2))\n",
    "\n",
    "  # Evaluate on test set\n",
    "y_pred = reg.predict(X_val_scaled)\n",
    "y_pred = np.nan_to_num(y_pred)\n",
    "mse = mean_squared_error(y_val_scaled, y_pred)\n",
    "mae = mean_absolute_error(y_val_scaled, y_pred)\n",
    "r2 = r2_score(y_val_scaled, y_pred)\n",
    "print(\"Validation set scores for %d neighbours: mse %f, mae %f, r2 %f\" % (n_neighbours, mse, mae, r2))\n",
    "\n",
    "  # Evaluate on test set\n",
    "y_pred = reg.predict(X_test_scaled)\n",
    "y_pred = np.nan_to_num(y_pred)\n",
    "mse = mean_squared_error(y_test_scaled, y_pred)\n",
    "mae = mean_absolute_error(y_test_scaled, y_pred)\n",
    "r2 = r2_score(y_test_scaled, y_pred)\n",
    "print(\"Test set scores for %d neighbours: mse %f, mae %f, r2 %f\" % (n_neighbours, mse, mae, r2))"
   ]
  },
  {
   "cell_type": "code",
   "execution_count": 1,
   "metadata": {},
   "outputs": [],
   "source": [
    "import joblib\n",
    "from hsml.schema import Schema\n",
    "from hsml.model_schema import ModelSchema\n",
    "import os"
   ]
  },
  {
   "cell_type": "code",
   "execution_count": 17,
   "metadata": {},
   "outputs": [
    {
     "name": "stdout",
     "output_type": "stream",
     "text": [
      "Connected. Call `.close()` to terminate connection gracefully.\n"
     ]
    },
    {
     "data": {
      "application/vnd.jupyter.widget-view+json": {
       "model_id": "213a48c1b5104a239343bdbdf576b6e8",
       "version_major": 2,
       "version_minor": 0
      },
      "text/plain": [
       "  0%|          | 0/6 [00:00<?, ?it/s]"
      ]
     },
     "metadata": {},
     "output_type": "display_data"
    },
    {
     "data": {
      "application/vnd.jupyter.widget-view+json": {
       "model_id": "93cd5f52ca9e49899c5c8b3ae683e4e6",
       "version_major": 2,
       "version_minor": 0
      },
      "text/plain": [
       "Uploading: 0.000%|          | 0/27868 elapsed<00:00 remaining<?"
      ]
     },
     "metadata": {},
     "output_type": "display_data"
    },
    {
     "data": {
      "application/vnd.jupyter.widget-view+json": {
       "model_id": "54c0df1f48424e96856b482f49fdf2bf",
       "version_major": 2,
       "version_minor": 0
      },
      "text/plain": [
       "Uploading: 0.000%|          | 0/27868 elapsed<00:00 remaining<?"
      ]
     },
     "metadata": {},
     "output_type": "display_data"
    },
    {
     "data": {
      "application/vnd.jupyter.widget-view+json": {
       "model_id": "bcff9e6686bb4f6581ab211d4f97bc90",
       "version_major": 2,
       "version_minor": 0
      },
      "text/plain": [
       "Uploading: 0.000%|          | 0/632 elapsed<00:00 remaining<?"
      ]
     },
     "metadata": {},
     "output_type": "display_data"
    },
    {
     "name": "stdout",
     "output_type": "stream",
     "text": [
      "Model created, explore it at https://c.app.hopsworks.ai:443/p/602262/models/movie_kn5/1\n"
     ]
    },
    {
     "data": {
      "text/plain": [
       "Model(name: 'movie_kn5', version: 1)"
      ]
     },
     "execution_count": 17,
     "metadata": {},
     "output_type": "execute_result"
    }
   ],
   "source": [
    "# We will now upload our model to the Hopsworks Model Registry. First get an object for the model registry.\n",
    "mr = project.get_model_registry()\n",
    "\n",
    "# The contents of the 'iris_model' directory will be saved to the model registry. Create the dir, first.\n",
    "model_dir=\"movies_model\"\n",
    "if os.path.isdir(model_dir) == False:\n",
    "    os.mkdir(model_dir)\n",
    "\n",
    "# Save both our model and the confusion matrix to 'model_dir', whose contents will be uploaded to the model registry\n",
    "joblib.dump(model, model_dir + f\"/k-neighbours{n_neighbours}.pkl\")\n",
    "\n",
    "# Specify the schema of the model's input/output using the features (X_train) and labels (y_train)\n",
    "input_schema = Schema(X_train_scaled)\n",
    "output_schema = Schema(y_train_scaled)\n",
    "model_schema = ModelSchema(input_schema, output_schema)\n",
    "\n",
    "# Create an entry in the model registry that includes the model's name, desc, metrics\n",
    "movie_model = mr.python.create_model(\n",
    "    name=f\"movie_kn{n_neighbours}\",\n",
    "    metrics={\"r2\" : r2},\n",
    "    model_schema=model_schema,\n",
    "    description=\"Movie revenue predictor\"\n",
    ")\n",
    "\n",
    "# Upload the model to the model registry, including all files in 'model_dir'\n",
    "movie_model.save(model_dir)"
   ]
  },
  {
   "cell_type": "code",
   "execution_count": 1,
   "metadata": {},
   "outputs": [
    {
     "name": "stdout",
     "output_type": "stream",
     "text": [
      "Connected. Call `.close()` to terminate connection gracefully.\n",
      "\n",
      "Logged in to project, explore it here https://c.app.hopsworks.ai:443/p/602262\n",
      "Connected. Call `.close()` to terminate connection gracefully.\n"
     ]
    }
   ],
   "source": [
    "import pandas as pd\n",
    "import numpy as np\n",
    "import hopsworks\n",
    "import joblib\n",
    "\n",
    "project = hopsworks.login()\n",
    "fs = project.get_feature_store()\n",
    "movie_fg = fs.get_feature_group(name=\"movies\", version=2)\n"
   ]
  },
  {
   "cell_type": "code",
   "execution_count": 2,
   "metadata": {},
   "outputs": [
    {
     "name": "stdout",
     "output_type": "stream",
     "text": [
      "Finished: Reading data from Hopsworks, using ArrowFlight (1.19s) \n",
      "         id\n",
      "0    191714\n",
      "1     46386\n",
      "2    461707\n",
      "3     19703\n",
      "4     45316\n",
      "..      ...\n",
      "317   44613\n",
      "318  883280\n",
      "319  402672\n",
      "320  360814\n",
      "321  596650\n",
      "\n",
      "[322 rows x 1 columns]\n"
     ]
    }
   ],
   "source": [
    "query = movie_fg.select(['id']).read()\n",
    "print(query)"
   ]
  },
  {
   "cell_type": "code",
   "execution_count": 3,
   "metadata": {},
   "outputs": [],
   "source": [
    "import requests\n",
    "tmdb_api_key = os.getenv(\"TMDB_API_KEY\")\n",
    "url = f\"https://api.themoviedb.org/3/movie/upcoming?api_key={tmdb_api_key}&original_language=hi\"\n",
    "response = requests.get(url).json()"
   ]
  },
  {
   "cell_type": "code",
   "execution_count": 5,
   "metadata": {},
   "outputs": [
    {
     "data": {
      "text/plain": [
       "'https://api.themoviedb.org/3/discover/movie?api_key=85378515d04f91ab8e73cb54a7a934f6&include_adult=false&include_video=false&sort_by=revenue.desc&with_original_language=hi'"
      ]
     },
     "execution_count": 5,
     "metadata": {},
     "output_type": "execute_result"
    }
   ],
   "source": [
    "url = f\"https://api.themoviedb.org/3/discover/movie?api_key={tmdb_api_key}&include_adult=false&include_video=false&sort_by=revenue.desc&with_original_language=hi\"\n",
    "url"
   ]
  },
  {
   "cell_type": "code",
   "execution_count": 7,
   "metadata": {},
   "outputs": [
    {
     "data": {
      "text/plain": [
       "'https://api.themoviedb.org/3/discover/movie?api_key=85378515d04f91ab8e73cb54a7a934f6&include_adult=false&include_video=false&with_original_language=hi&page=1&sort_by=popularity.desc&with_release_type=2|3&release_date.gte=2024-03-01'"
      ]
     },
     "execution_count": 7,
     "metadata": {},
     "output_type": "execute_result"
    }
   ],
   "source": [
    "url = f\"https://api.themoviedb.org/3/discover/movie?api_key={tmdb_api_key}&include_adult=false&include_video=false&with_original_language=hi&page=1&sort_by=popularity.desc&with_release_type=2|3&release_date.gte=2024-03-01\"\n",
    "url"
   ]
  },
  {
   "cell_type": "code",
   "execution_count": 29,
   "metadata": {},
   "outputs": [
    {
     "data": {
      "text/plain": [
       "'https://api.themoviedb.org/3/discover/movie?include_adult=false&include_video=false&language=en-US&page=1&sort_by=popularity.desc&with_release_type=2|3&release_date.gte=2024-03-01'"
      ]
     },
     "execution_count": 29,
     "metadata": {},
     "output_type": "execute_result"
    }
   ],
   "source": [
    "url"
   ]
  },
  {
   "cell_type": "code",
   "execution_count": 16,
   "metadata": {},
   "outputs": [
    {
     "data": {
      "text/plain": [
       "{'adult': False,\n",
       " 'backdrop_path': '/hZkgoQYus5vegHoetLkCJzb17zJ.jpg',\n",
       " 'belongs_to_collection': None,\n",
       " 'budget': 63000000,\n",
       " 'genres': [{'id': 18, 'name': 'Drama'}],\n",
       " 'homepage': 'http://www.foxmovies.com/movies/fight-club',\n",
       " 'id': 550,\n",
       " 'imdb_id': 'tt0137523',\n",
       " 'original_language': 'en',\n",
       " 'original_title': 'Fight Club',\n",
       " 'overview': 'A ticking-time-bomb insomniac and a slippery soap salesman channel primal male aggression into a shocking new form of therapy. Their concept catches on, with underground \"fight clubs\" forming in every town, until an eccentric gets in the way and ignites an out-of-control spiral toward oblivion.',\n",
       " 'popularity': 103.27,\n",
       " 'poster_path': '/pB8BM7pdSp6B6Ih7QZ4DrQ3PmJK.jpg',\n",
       " 'production_companies': [{'id': 711,\n",
       "   'logo_path': '/tEiIH5QesdheJmDAqQwvtN60727.png',\n",
       "   'name': 'Fox 2000 Pictures',\n",
       "   'origin_country': 'US'},\n",
       "  {'id': 508,\n",
       "   'logo_path': '/7cxRWzi4LsVm4Utfpr1hfARNurT.png',\n",
       "   'name': 'Regency Enterprises',\n",
       "   'origin_country': 'US'},\n",
       "  {'id': 4700,\n",
       "   'logo_path': '/A32wmjrs9Psf4zw0uaixF0GXfxq.png',\n",
       "   'name': 'The Linson Company',\n",
       "   'origin_country': 'US'},\n",
       "  {'id': 25,\n",
       "   'logo_path': '/qZCc1lty5FzX30aOCVRBLzaVmcp.png',\n",
       "   'name': '20th Century Fox',\n",
       "   'origin_country': 'US'},\n",
       "  {'id': 20555,\n",
       "   'logo_path': '/hD8yEGUBlHOcfHYbujp71vD8gZp.png',\n",
       "   'name': 'Taurus Film',\n",
       "   'origin_country': 'DE'}],\n",
       " 'production_countries': [{'iso_3166_1': 'DE', 'name': 'Germany'},\n",
       "  {'iso_3166_1': 'US', 'name': 'United States of America'}],\n",
       " 'release_date': '1999-10-15',\n",
       " 'revenue': 100853753,\n",
       " 'runtime': 139,\n",
       " 'spoken_languages': [{'english_name': 'English',\n",
       "   'iso_639_1': 'en',\n",
       "   'name': 'English'}],\n",
       " 'status': 'Released',\n",
       " 'tagline': 'Mischief. Mayhem. Soap.',\n",
       " 'title': 'Fight Club',\n",
       " 'video': False,\n",
       " 'vote_average': 8.441,\n",
       " 'vote_count': 28290}"
      ]
     },
     "execution_count": 16,
     "metadata": {},
     "output_type": "execute_result"
    }
   ],
   "source": [
    "response"
   ]
  }
 ],
 "metadata": {
  "kernelspec": {
   "display_name": "Python 3",
   "language": "python",
   "name": "python3"
  },
  "language_info": {
   "codemirror_mode": {
    "name": "ipython",
    "version": 3
   },
   "file_extension": ".py",
   "mimetype": "text/x-python",
   "name": "python",
   "nbconvert_exporter": "python",
   "pygments_lexer": "ipython3",
   "version": "3.10.13"
  }
 },
 "nbformat": 4,
 "nbformat_minor": 2
}
